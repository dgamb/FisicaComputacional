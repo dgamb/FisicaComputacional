{
 "metadata": {
  "name": ""
 },
 "nbformat": 3,
 "nbformat_minor": 0,
 "worksheets": [
  {
   "cells": [
    {
     "cell_type": "heading",
     "level": 3,
     "metadata": {},
     "source": [
      "F\u00edsica Computacional: Taller #5: Punto 1 (Espectro de potencias de un encefalograma)</br> \n",
      "Autores: Diego Gamboa (201015096), Sebastian Olivares</br>\n"
     ]
    },
    {
     "cell_type": "markdown",
     "metadata": {},
     "source": [
      "Esta celda se encargar\u00e1 de cargar el archivo a un arreglo de dos dimensiones. Descarga el archivo directamente desde el repositorio de github donde se encuentra. Se necesita de conexi\u00f3n a internet para poder ejecutar el c\u00f3digo. \n",
      "file - es el archivo donde se encuentra los datos del encefalograma.\n",
      "data - es el arreglo de dos dimensiones en el que se guardar\u00e1 "
     ]
    },
    {
     "cell_type": "code",
     "collapsed": false,
     "input": [
      "import urllib2\n",
      "file = urllib2.urlopen(\"https://raw.github.com/forero/ComputationalPhysicsUniandesData/master/homework/hw_4/sampled+ma0844az_1-1+_data.txt\")\n"
     ],
     "language": "python",
     "metadata": {},
     "outputs": [],
     "prompt_number": 2
    },
    {
     "cell_type": "markdown",
     "metadata": {},
     "source": [
      "Se realiza la inicialzaci\u00f3n de las variables y estructuras necesarias para almacenamiento de los resultados.\n",
      "frec - es el arreglo donde se guardar\u00e1n las frecuencias resultado de las transformaciones de Fourier.\n",
      "amplitudes - es el arreglo (2 dimensiones) donde se guardar\u00e1n las amplitudes resultado de las transformaciones de Fourier."
     ]
    },
    {
     "cell_type": "code",
     "collapsed": false,
     "input": [],
     "language": "python",
     "metadata": {},
     "outputs": []
    },
    {
     "cell_type": "markdown",
     "metadata": {},
     "source": [
      "Se realizan los c\u00e1lculos correspondientes a las transformadas de Fourier (usando rutinas fft). Se obtienen las frecuencias y las amplitudes.\n"
     ]
    },
    {
     "cell_type": "code",
     "collapsed": false,
     "input": [],
     "language": "python",
     "metadata": {},
     "outputs": []
    },
    {
     "cell_type": "markdown",
     "metadata": {},
     "source": [
      "Se produce la gr\u00e1fica de los espectros de potencia de las se\u00f1ales de todos los electrodos. Espec\u00edficamente se gr\u00e1ficar\u00e1n la norma al cuadrado de amplitudes vs frecuencia, en el tiempo, para tiempos n = 0,1,2,3,4,...,N-1."
     ]
    },
    {
     "cell_type": "markdown",
     "metadata": {},
     "source": [
      "<b>An\u00e1lisis:</b>"
     ]
    },
    {
     "cell_type": "code",
     "collapsed": false,
     "input": [],
     "language": "python",
     "metadata": {},
     "outputs": []
    },
    {
     "cell_type": "markdown",
     "metadata": {},
     "source": [
      "Ahora se tomar\u00e1n los 10 valores de la norma al cuadrado m\u00e1s grandes de las amplitudes encontradas y se guardar\u00e1n en un arreglo.\n",
      "base - es el arreglo que contiene la base que se utilizar\u00e1 para reconstruir la se\u00f1al del encefalograma."
     ]
    },
    {
     "cell_type": "code",
     "collapsed": false,
     "input": [],
     "language": "python",
     "metadata": {},
     "outputs": []
    },
    {
     "cell_type": "markdown",
     "metadata": {},
     "source": [
      "Con el arreglo base se tratar\u00e1 de reconstruir la onda."
     ]
    },
    {
     "cell_type": "code",
     "collapsed": false,
     "input": [],
     "language": "python",
     "metadata": {},
     "outputs": []
    },
    {
     "cell_type": "markdown",
     "metadata": {},
     "source": [
      "Se comparan los valores de la se\u00f1al reconstruida con los de la se\u00f1al original, a trav\u00e9s de la estad\u00edstica $\\chi\u00b2$"
     ]
    },
    {
     "cell_type": "code",
     "collapsed": false,
     "input": [],
     "language": "python",
     "metadata": {},
     "outputs": []
    }
   ],
   "metadata": {}
  }
 ]
}